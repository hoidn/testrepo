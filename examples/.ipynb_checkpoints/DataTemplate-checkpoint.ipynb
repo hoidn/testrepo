{
 "cells": [
  {
   "cell_type": "code",
   "execution_count": null,
   "metadata": {
    "collapsed": true
   },
   "outputs": [],
   "source": [
    "# %load nbinit.py\n",
    "# Initialize stuff\n",
    "import matplotlib\n",
    "matplotlib.use('nbagg')\n",
    "\n",
    "import numpy as np\n",
    "from functools import partial\n",
    "\n",
    "from xraycam import camcontrol\n",
    "from xraycam.camcontrol import plt\n",
    "\n",
    "import warnings\n",
    "warnings.filterwarnings(\"ignore\",category=DeprecationWarning)\n",
    "\n",
    "def runset_and_merge(run_prefix, number_runs, run = False, threshold_min = 31, threshold_max =  55, **kwargs):\n",
    "    \"\"\"Returns a Frame\"\"\"\n",
    "    runset = camcontrol.RunSet(run_prefix= run_prefix,\n",
    "        run = run, number_runs = number_runs, **kwargs)\n",
    "    return runset.filter_reduce_frames(threshold_min = threshold_min, threshold_max = threshold_max)\n",
    "\n",
    "def runset_merge_plot(*args, rebin = 10, **kwargs):\n",
    "    frame = runset_and_merge(*args, **kwargs)\n",
    "    return frame, frame.plot_lineout(rebin = rebin)\n",
    "\n",
    "def lineout_subregion(frame, cutoff, rebin = 2, error_bars = True, **kwargs):\n",
    "    \"\"\"Plot a lineout of the lower `cutoff` pixels of the frame\"\"\"\n",
    "    import copy\n",
    "    nframe = copy.deepcopy(frame)\n",
    "    nframe.data = nframe.data[len(frame.data) - cutoff:, :]\n",
    "    return nframe.plot_lineout(rebin = rebin, error_bars = error_bars)"
   ]
  },
  {
   "cell_type": "code",
   "execution_count": null,
   "metadata": {
    "collapsed": true
   },
   "outputs": [],
   "source": [
    "frame = runset_and_merge('data/5.25.data0', 1, gain = '0x3f',\n",
    "        numExposures = 4000, run = True, window_min = 31, window_max = 55,\n",
    "        threshold_min = 31, threshold_max = 55, rebin = 1)"
   ]
  }
 ],
 "metadata": {
  "kernelspec": {
   "display_name": "Python 3",
   "language": "python",
   "name": "python3"
  },
  "language_info": {
   "codemirror_mode": {
    "name": "ipython",
    "version": 3
   },
   "file_extension": ".py",
   "mimetype": "text/x-python",
   "name": "python",
   "nbconvert_exporter": "python",
   "pygments_lexer": "ipython3",
   "version": "3.5.1"
  }
 },
 "nbformat": 4,
 "nbformat_minor": 0
}
